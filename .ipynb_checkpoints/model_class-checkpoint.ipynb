{
 "cells": [
  {
   "cell_type": "code",
   "execution_count": 1,
   "id": "fff72ed8",
   "metadata": {},
   "outputs": [],
   "source": [
    "#use the jupyter notebook to build the ml model class\n",
    "# and find the hyperparameters\n",
    "#then when done, the hyperparameters will be exported\n",
    "#to the python script, this way retraining memory won't \n",
    "#be wasted"
   ]
  },
  {
   "cell_type": "code",
   "execution_count": 1,
   "id": "03a92e40",
   "metadata": {},
   "outputs": [],
   "source": [
    "#follow this tutorial:\n",
    "#https://towardsdatascience.com/beginners-guide-to-xgboost-for-classification-problems-50f75aac5390 \n",
    "# also this way I can use hyperopt library to find the best\n",
    "#hyper parameters\n"
   ]
  },
  {
   "cell_type": "markdown",
   "id": "4bf1c243",
   "metadata": {},
   "source": [
    "## Each header like this could indicate the process for each object within the class"
   ]
  },
  {
   "cell_type": "code",
   "execution_count": null,
   "id": "623b2956",
   "metadata": {},
   "outputs": [],
   "source": []
  }
 ],
 "metadata": {
  "kernelspec": {
   "display_name": "Python 3 (ipykernel)",
   "language": "python",
   "name": "python3"
  },
  "language_info": {
   "codemirror_mode": {
    "name": "ipython",
    "version": 3
   },
   "file_extension": ".py",
   "mimetype": "text/x-python",
   "name": "python",
   "nbconvert_exporter": "python",
   "pygments_lexer": "ipython3",
   "version": "3.9.7"
  }
 },
 "nbformat": 4,
 "nbformat_minor": 5
}
